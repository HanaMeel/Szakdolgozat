{
 "cells": [
  {
   "cell_type": "markdown",
   "id": "f8012f6b",
   "metadata": {},
   "source": [
    "# Trip time comparison"
   ]
  },
  {
   "cell_type": "markdown",
   "id": "96e0020e",
   "metadata": {},
   "source": [
    "Ebben a notebook-ban beolvasom mind az irányítatlan, mind pedig az elosztottan irányított szimulációból nyert triptime fájlokat és a duration oszlopok értékeinek, tehát a megtett utak idejének az átlagát veszem és az eredményeket így hasonlítom össze.\n",
    "\n",
    "https://medium.com/@robertopreste/from-xml-to-pandas-dataframes-9292980b1c1c"
   ]
  },
  {
   "cell_type": "code",
   "execution_count": 1,
   "id": "20fff6f4",
   "metadata": {},
   "outputs": [],
   "source": [
    "import pandas as pd\n",
    "import xml.etree.ElementTree as et\n",
    "import matplotlib.pyplot as plt"
   ]
  },
  {
   "cell_type": "markdown",
   "id": "fced3db3",
   "metadata": {},
   "source": [
    "# Controlled Simulation data"
   ]
  },
  {
   "cell_type": "code",
   "execution_count": 2,
   "id": "ba5bc37e",
   "metadata": {},
   "outputs": [],
   "source": [
    "xtree = et.parse(\"tripinfoWithDistributedControl4States9.xml\")\n",
    "xroot = xtree.getroot()"
   ]
  },
  {
   "cell_type": "code",
   "execution_count": 3,
   "id": "be827fc8",
   "metadata": {},
   "outputs": [],
   "source": [
    "df_cols = [\"duration\", \"waitingTime\", \"waitingCount\", \"timeLoss\"]\n",
    "rows = []\n",
    "rows_arrival = []\n",
    "rows_duration = []\n",
    "df_arrival = [\"id\",\"arrivalSpeed\"]\n",
    "df_duration = [\"id\",\"duration\"]\n",
    "\n",
    "for node in xroot: \n",
    "    veh_id = node.attrib.get(\"id\")\n",
    "    depart = node.attrib.get(\"depart\")\n",
    "    departLane = node.attrib.get(\"departLane\")\n",
    "    departPos = node.attrib.get(\"departPos\")\n",
    "    departSpeed = node.attrib.get(\"departSpeed\")\n",
    "    departDelay = node.attrib.get(\"departDelay\")\n",
    "    arrival = node.attrib.get(\"arrival\")\n",
    "    arrivalLane = node.attrib.get(\"arrivalLane\")\n",
    "    arrivalPos = node.attrib.get(\"arrivalPos\")\n",
    "    arrivalSpeed = node.attrib.get(\"arrivalSpeed\")\n",
    "    \n",
    "    duration = node.attrib.get(\"duration\")\n",
    "    \n",
    "    routeLength = node.attrib.get(\"routeLength\")\n",
    "    \n",
    "    waitingTime = node.attrib.get(\"waitingTime\")\n",
    "    \n",
    "    waitingCount = node.attrib.get(\"waitingCount\")\n",
    "    \n",
    "    stopTime = node.attrib.get(\"stopTime\")\n",
    "    \n",
    "    timeLoss = node.attrib.get(\"timeLoss\")\n",
    "    \n",
    "    rerouteNo = node.attrib.get(\"rerouteNo\")\n",
    "    devices = node.attrib.get(\"devices\")\n",
    "    vType = node.attrib.get(\"vType\")\n",
    "    speedFactor = node.attrib.get(\"speedFactor\")\n",
    "    vaporized = node.attrib.get(\"vaporized\")\n",
    "    \n",
    "    rows.append({\"duration\": duration, \"waitingTime\": waitingTime, \"waitingCount\": waitingCount, \"timeLoss\": timeLoss})\n",
    "    rows_duration.append({\"id\": veh_id,\"duration\": duration})\n",
    "    rows_arrival.append({\"id\": veh_id, \"arrivalSpeed\": arrivalSpeed})\n",
    "\n",
    "arrivalSpeed_df = pd.DataFrame(rows_arrival, columns = df_arrival)\n",
    "duration_df = pd.DataFrame(rows_duration, columns = df_duration)\n",
    "out_df = pd.DataFrame(rows, columns = df_cols)"
   ]
  },
  {
   "cell_type": "code",
   "execution_count": 4,
   "id": "8a138342",
   "metadata": {},
   "outputs": [
    {
     "data": {
      "text/html": [
       "<div>\n",
       "<style scoped>\n",
       "    .dataframe tbody tr th:only-of-type {\n",
       "        vertical-align: middle;\n",
       "    }\n",
       "\n",
       "    .dataframe tbody tr th {\n",
       "        vertical-align: top;\n",
       "    }\n",
       "\n",
       "    .dataframe thead th {\n",
       "        text-align: right;\n",
       "    }\n",
       "</style>\n",
       "<table border=\"1\" class=\"dataframe\">\n",
       "  <thead>\n",
       "    <tr style=\"text-align: right;\">\n",
       "      <th></th>\n",
       "      <th>duration</th>\n",
       "      <th>waitingTime</th>\n",
       "      <th>waitingCount</th>\n",
       "      <th>timeLoss</th>\n",
       "    </tr>\n",
       "  </thead>\n",
       "  <tbody>\n",
       "    <tr>\n",
       "      <th>0</th>\n",
       "      <td>74.00</td>\n",
       "      <td>0.00</td>\n",
       "      <td>0</td>\n",
       "      <td>9.94</td>\n",
       "    </tr>\n",
       "    <tr>\n",
       "      <th>1</th>\n",
       "      <td>77.00</td>\n",
       "      <td>0.00</td>\n",
       "      <td>0</td>\n",
       "      <td>10.14</td>\n",
       "    </tr>\n",
       "    <tr>\n",
       "      <th>2</th>\n",
       "      <td>78.00</td>\n",
       "      <td>0.00</td>\n",
       "      <td>0</td>\n",
       "      <td>13.03</td>\n",
       "    </tr>\n",
       "    <tr>\n",
       "      <th>3</th>\n",
       "      <td>79.00</td>\n",
       "      <td>0.00</td>\n",
       "      <td>0</td>\n",
       "      <td>14.91</td>\n",
       "    </tr>\n",
       "    <tr>\n",
       "      <th>4</th>\n",
       "      <td>80.00</td>\n",
       "      <td>0.00</td>\n",
       "      <td>0</td>\n",
       "      <td>14.10</td>\n",
       "    </tr>\n",
       "    <tr>\n",
       "      <th>...</th>\n",
       "      <td>...</td>\n",
       "      <td>...</td>\n",
       "      <td>...</td>\n",
       "      <td>...</td>\n",
       "    </tr>\n",
       "    <tr>\n",
       "      <th>135</th>\n",
       "      <td>494.00</td>\n",
       "      <td>392.00</td>\n",
       "      <td>3</td>\n",
       "      <td>430.78</td>\n",
       "    </tr>\n",
       "    <tr>\n",
       "      <th>136</th>\n",
       "      <td>445.00</td>\n",
       "      <td>336.00</td>\n",
       "      <td>3</td>\n",
       "      <td>380.99</td>\n",
       "    </tr>\n",
       "    <tr>\n",
       "      <th>137</th>\n",
       "      <td>465.00</td>\n",
       "      <td>331.00</td>\n",
       "      <td>8</td>\n",
       "      <td>401.77</td>\n",
       "    </tr>\n",
       "    <tr>\n",
       "      <th>138</th>\n",
       "      <td>455.00</td>\n",
       "      <td>344.00</td>\n",
       "      <td>5</td>\n",
       "      <td>391.89</td>\n",
       "    </tr>\n",
       "    <tr>\n",
       "      <th>139</th>\n",
       "      <td>504.00</td>\n",
       "      <td>392.00</td>\n",
       "      <td>5</td>\n",
       "      <td>440.06</td>\n",
       "    </tr>\n",
       "  </tbody>\n",
       "</table>\n",
       "<p>140 rows × 4 columns</p>\n",
       "</div>"
      ],
      "text/plain": [
       "    duration waitingTime waitingCount timeLoss\n",
       "0      74.00        0.00            0     9.94\n",
       "1      77.00        0.00            0    10.14\n",
       "2      78.00        0.00            0    13.03\n",
       "3      79.00        0.00            0    14.91\n",
       "4      80.00        0.00            0    14.10\n",
       "..       ...         ...          ...      ...\n",
       "135   494.00      392.00            3   430.78\n",
       "136   445.00      336.00            3   380.99\n",
       "137   465.00      331.00            8   401.77\n",
       "138   455.00      344.00            5   391.89\n",
       "139   504.00      392.00            5   440.06\n",
       "\n",
       "[140 rows x 4 columns]"
      ]
     },
     "execution_count": 4,
     "metadata": {},
     "output_type": "execute_result"
    }
   ],
   "source": [
    "out_df"
   ]
  },
  {
   "cell_type": "code",
   "execution_count": 5,
   "id": "fa9969fe",
   "metadata": {},
   "outputs": [],
   "source": [
    "out_df.duration = out_df.duration.astype(float)\n",
    "out_df.duration = out_df.duration.astype(int)\n",
    "\n",
    "out_df.waitingTime = out_df.waitingTime.astype(float)\n",
    "out_df.waitingTime = out_df.waitingTime.astype(int)\n",
    "\n",
    "out_df.waitingCount = out_df.waitingCount.astype(float)\n",
    "out_df.waitingCount = out_df.waitingCount.astype(int)\n",
    "out_df.timeLoss = out_df.timeLoss.astype(float)\n",
    "sum = 0\n",
    "for row in out_df.timeLoss:\n",
    "    sum += row\n",
    "avg = sum / len(out_df.timeLoss)"
   ]
  },
  {
   "cell_type": "code",
   "execution_count": 6,
   "id": "7502eb27",
   "metadata": {
    "scrolled": true
   },
   "outputs": [
    {
     "data": {
      "text/html": [
       "<div>\n",
       "<style scoped>\n",
       "    .dataframe tbody tr th:only-of-type {\n",
       "        vertical-align: middle;\n",
       "    }\n",
       "\n",
       "    .dataframe tbody tr th {\n",
       "        vertical-align: top;\n",
       "    }\n",
       "\n",
       "    .dataframe thead th {\n",
       "        text-align: right;\n",
       "    }\n",
       "</style>\n",
       "<table border=\"1\" class=\"dataframe\">\n",
       "  <thead>\n",
       "    <tr style=\"text-align: right;\">\n",
       "      <th></th>\n",
       "      <th>duration</th>\n",
       "      <th>waitingTime</th>\n",
       "      <th>waitingCount</th>\n",
       "      <th>timeLoss</th>\n",
       "    </tr>\n",
       "  </thead>\n",
       "  <tbody>\n",
       "    <tr>\n",
       "      <th>0</th>\n",
       "      <td>74</td>\n",
       "      <td>0</td>\n",
       "      <td>0</td>\n",
       "      <td>9.94</td>\n",
       "    </tr>\n",
       "    <tr>\n",
       "      <th>1</th>\n",
       "      <td>77</td>\n",
       "      <td>0</td>\n",
       "      <td>0</td>\n",
       "      <td>10.14</td>\n",
       "    </tr>\n",
       "    <tr>\n",
       "      <th>2</th>\n",
       "      <td>78</td>\n",
       "      <td>0</td>\n",
       "      <td>0</td>\n",
       "      <td>13.03</td>\n",
       "    </tr>\n",
       "    <tr>\n",
       "      <th>3</th>\n",
       "      <td>79</td>\n",
       "      <td>0</td>\n",
       "      <td>0</td>\n",
       "      <td>14.91</td>\n",
       "    </tr>\n",
       "    <tr>\n",
       "      <th>4</th>\n",
       "      <td>80</td>\n",
       "      <td>0</td>\n",
       "      <td>0</td>\n",
       "      <td>14.10</td>\n",
       "    </tr>\n",
       "    <tr>\n",
       "      <th>...</th>\n",
       "      <td>...</td>\n",
       "      <td>...</td>\n",
       "      <td>...</td>\n",
       "      <td>...</td>\n",
       "    </tr>\n",
       "    <tr>\n",
       "      <th>135</th>\n",
       "      <td>494</td>\n",
       "      <td>392</td>\n",
       "      <td>3</td>\n",
       "      <td>430.78</td>\n",
       "    </tr>\n",
       "    <tr>\n",
       "      <th>136</th>\n",
       "      <td>445</td>\n",
       "      <td>336</td>\n",
       "      <td>3</td>\n",
       "      <td>380.99</td>\n",
       "    </tr>\n",
       "    <tr>\n",
       "      <th>137</th>\n",
       "      <td>465</td>\n",
       "      <td>331</td>\n",
       "      <td>8</td>\n",
       "      <td>401.77</td>\n",
       "    </tr>\n",
       "    <tr>\n",
       "      <th>138</th>\n",
       "      <td>455</td>\n",
       "      <td>344</td>\n",
       "      <td>5</td>\n",
       "      <td>391.89</td>\n",
       "    </tr>\n",
       "    <tr>\n",
       "      <th>139</th>\n",
       "      <td>504</td>\n",
       "      <td>392</td>\n",
       "      <td>5</td>\n",
       "      <td>440.06</td>\n",
       "    </tr>\n",
       "  </tbody>\n",
       "</table>\n",
       "<p>140 rows × 4 columns</p>\n",
       "</div>"
      ],
      "text/plain": [
       "     duration  waitingTime  waitingCount  timeLoss\n",
       "0          74            0             0      9.94\n",
       "1          77            0             0     10.14\n",
       "2          78            0             0     13.03\n",
       "3          79            0             0     14.91\n",
       "4          80            0             0     14.10\n",
       "..        ...          ...           ...       ...\n",
       "135       494          392             3    430.78\n",
       "136       445          336             3    380.99\n",
       "137       465          331             8    401.77\n",
       "138       455          344             5    391.89\n",
       "139       504          392             5    440.06\n",
       "\n",
       "[140 rows x 4 columns]"
      ]
     },
     "execution_count": 6,
     "metadata": {},
     "output_type": "execute_result"
    }
   ],
   "source": [
    "out_df"
   ]
  },
  {
   "cell_type": "markdown",
   "id": "bc78cef5",
   "metadata": {},
   "source": [
    "Mivel nem látok tényleges tört részeket egyik oszlopban sem így egész számra kerekítek."
   ]
  },
  {
   "cell_type": "code",
   "execution_count": 7,
   "id": "a18ae79c",
   "metadata": {},
   "outputs": [],
   "source": [
    "duration_mean = out_df[\"duration\"].mean()\n",
    "waitingTime_mean = out_df[\"waitingTime\"].mean()\n",
    "waitingCount_mean = out_df[\"waitingCount\"].mean()\n",
    "timeLoss_mean = avg"
   ]
  },
  {
   "cell_type": "code",
   "execution_count": 8,
   "id": "b975124a",
   "metadata": {},
   "outputs": [
    {
     "data": {
      "text/html": [
       "<div>\n",
       "<style scoped>\n",
       "    .dataframe tbody tr th:only-of-type {\n",
       "        vertical-align: middle;\n",
       "    }\n",
       "\n",
       "    .dataframe tbody tr th {\n",
       "        vertical-align: top;\n",
       "    }\n",
       "\n",
       "    .dataframe thead th {\n",
       "        text-align: right;\n",
       "    }\n",
       "</style>\n",
       "<table border=\"1\" class=\"dataframe\">\n",
       "  <thead>\n",
       "    <tr style=\"text-align: right;\">\n",
       "      <th></th>\n",
       "      <th>Simulation Type</th>\n",
       "      <th>duration_mean</th>\n",
       "      <th>waitingTime_mean</th>\n",
       "      <th>waitingCount_mean</th>\n",
       "      <th>timeLoss_mean</th>\n",
       "    </tr>\n",
       "  </thead>\n",
       "  <tbody>\n",
       "    <tr>\n",
       "      <th>0</th>\n",
       "      <td>QLearning</td>\n",
       "      <td>217.1</td>\n",
       "      <td>95.757143</td>\n",
       "      <td>2.45</td>\n",
       "      <td>152.7545</td>\n",
       "    </tr>\n",
       "  </tbody>\n",
       "</table>\n",
       "</div>"
      ],
      "text/plain": [
       "  Simulation Type  duration_mean  waitingTime_mean  waitingCount_mean  \\\n",
       "0       QLearning          217.1         95.757143               2.45   \n",
       "\n",
       "   timeLoss_mean  \n",
       "0       152.7545  "
      ]
     },
     "execution_count": 8,
     "metadata": {},
     "output_type": "execute_result"
    }
   ],
   "source": [
    "mean_cols = [\"Simulation Type\", \"duration_mean\", \"waitingTime_mean\", \"waitingCount_mean\", \"timeLoss_mean\"]\n",
    "row = [{\"Simulation Type\": \"QLearning\",\"duration_mean\": duration_mean, \"waitingTime_mean\": waitingTime_mean, \"waitingCount_mean\": waitingCount_mean, \"timeLoss_mean\": timeLoss_mean}]\n",
    "\n",
    "mean_metrics = pd.DataFrame(row, columns = mean_cols)\n",
    "mean_metrics"
   ]
  },
  {
   "cell_type": "markdown",
   "id": "cd889d0c",
   "metadata": {},
   "source": [
    "# Uncontrolled Simulation"
   ]
  },
  {
   "cell_type": "code",
   "execution_count": 9,
   "id": "07e42468",
   "metadata": {},
   "outputs": [],
   "source": [
    "xtree1 = et.parse(\"tripinfoWithoutDistributedControl.xml\")\n",
    "xroot1 = xtree1.getroot()"
   ]
  },
  {
   "cell_type": "code",
   "execution_count": 10,
   "id": "38a60368",
   "metadata": {},
   "outputs": [],
   "source": [
    "df_cols1 = [\"duration\", \"waitingTime\", \"waitingCount\", \"timeLoss\"]\n",
    "rows1 = []\n",
    "\n",
    "for node in xroot1: \n",
    "    veh_id = node.attrib.get(\"id\")\n",
    "    depart = node.attrib.get(\"depart\")\n",
    "    departLane = node.attrib.get(\"departLane\")\n",
    "    departPos = node.attrib.get(\"departPos\")\n",
    "    departSpeed = node.attrib.get(\"departSpeed\")\n",
    "    departDelay = node.attrib.get(\"departDelay\")\n",
    "    arrival = node.attrib.get(\"arrival\")\n",
    "    arrivalLane = node.attrib.get(\"arrivalLane\")\n",
    "    arrivalPos = node.attrib.get(\"arrivalPos\")\n",
    "    arrivalSpeed = node.attrib.get(\"arrivalSpeed\")\n",
    "    \n",
    "    duration = node.attrib.get(\"duration\")\n",
    "    \n",
    "    routeLength = node.attrib.get(\"routeLength\")\n",
    "    \n",
    "    waitingTime = node.attrib.get(\"waitingTime\")\n",
    "    \n",
    "    waitingCount = node.attrib.get(\"waitingCount\")\n",
    "    \n",
    "    stopTime = node.attrib.get(\"stopTime\")\n",
    "    \n",
    "    timeLoss = node.attrib.get(\"timeLoss\")\n",
    "    \n",
    "    rerouteNo = node.attrib.get(\"rerouteNo\")\n",
    "    devices = node.attrib.get(\"devices\")\n",
    "    vType = node.attrib.get(\"vType\")\n",
    "    speedFactor = node.attrib.get(\"speedFactor\")\n",
    "    vaporized = node.attrib.get(\"vaporized\")\n",
    "    \n",
    "    rows1.append({\"duration\": duration, \"waitingTime\": waitingTime, \"waitingCount\": waitingCount, \"timeLoss\": timeLoss})\n",
    "\n",
    "out_df_uncontrolled = pd.DataFrame(rows1, columns = df_cols1)"
   ]
  },
  {
   "cell_type": "code",
   "execution_count": 11,
   "id": "d0913014",
   "metadata": {},
   "outputs": [
    {
     "data": {
      "text/html": [
       "<div>\n",
       "<style scoped>\n",
       "    .dataframe tbody tr th:only-of-type {\n",
       "        vertical-align: middle;\n",
       "    }\n",
       "\n",
       "    .dataframe tbody tr th {\n",
       "        vertical-align: top;\n",
       "    }\n",
       "\n",
       "    .dataframe thead th {\n",
       "        text-align: right;\n",
       "    }\n",
       "</style>\n",
       "<table border=\"1\" class=\"dataframe\">\n",
       "  <thead>\n",
       "    <tr style=\"text-align: right;\">\n",
       "      <th></th>\n",
       "      <th>duration</th>\n",
       "      <th>waitingTime</th>\n",
       "      <th>waitingCount</th>\n",
       "      <th>timeLoss</th>\n",
       "    </tr>\n",
       "  </thead>\n",
       "  <tbody>\n",
       "    <tr>\n",
       "      <th>0</th>\n",
       "      <td>74.00</td>\n",
       "      <td>0.00</td>\n",
       "      <td>0</td>\n",
       "      <td>9.94</td>\n",
       "    </tr>\n",
       "    <tr>\n",
       "      <th>1</th>\n",
       "      <td>76.00</td>\n",
       "      <td>0.00</td>\n",
       "      <td>0</td>\n",
       "      <td>10.03</td>\n",
       "    </tr>\n",
       "    <tr>\n",
       "      <th>2</th>\n",
       "      <td>77.00</td>\n",
       "      <td>0.00</td>\n",
       "      <td>0</td>\n",
       "      <td>12.04</td>\n",
       "    </tr>\n",
       "    <tr>\n",
       "      <th>3</th>\n",
       "      <td>77.00</td>\n",
       "      <td>0.00</td>\n",
       "      <td>0</td>\n",
       "      <td>13.84</td>\n",
       "    </tr>\n",
       "    <tr>\n",
       "      <th>4</th>\n",
       "      <td>78.00</td>\n",
       "      <td>0.00</td>\n",
       "      <td>0</td>\n",
       "      <td>12.08</td>\n",
       "    </tr>\n",
       "    <tr>\n",
       "      <th>...</th>\n",
       "      <td>...</td>\n",
       "      <td>...</td>\n",
       "      <td>...</td>\n",
       "      <td>...</td>\n",
       "    </tr>\n",
       "    <tr>\n",
       "      <th>135</th>\n",
       "      <td>297.00</td>\n",
       "      <td>99.00</td>\n",
       "      <td>11</td>\n",
       "      <td>232.88</td>\n",
       "    </tr>\n",
       "    <tr>\n",
       "      <th>136</th>\n",
       "      <td>296.00</td>\n",
       "      <td>95.00</td>\n",
       "      <td>11</td>\n",
       "      <td>232.85</td>\n",
       "    </tr>\n",
       "    <tr>\n",
       "      <th>137</th>\n",
       "      <td>295.00</td>\n",
       "      <td>92.00</td>\n",
       "      <td>11</td>\n",
       "      <td>230.93</td>\n",
       "    </tr>\n",
       "    <tr>\n",
       "      <th>138</th>\n",
       "      <td>294.00</td>\n",
       "      <td>90.00</td>\n",
       "      <td>11</td>\n",
       "      <td>230.84</td>\n",
       "    </tr>\n",
       "    <tr>\n",
       "      <th>139</th>\n",
       "      <td>293.00</td>\n",
       "      <td>88.00</td>\n",
       "      <td>11</td>\n",
       "      <td>228.96</td>\n",
       "    </tr>\n",
       "  </tbody>\n",
       "</table>\n",
       "<p>140 rows × 4 columns</p>\n",
       "</div>"
      ],
      "text/plain": [
       "    duration waitingTime waitingCount timeLoss\n",
       "0      74.00        0.00            0     9.94\n",
       "1      76.00        0.00            0    10.03\n",
       "2      77.00        0.00            0    12.04\n",
       "3      77.00        0.00            0    13.84\n",
       "4      78.00        0.00            0    12.08\n",
       "..       ...         ...          ...      ...\n",
       "135   297.00       99.00           11   232.88\n",
       "136   296.00       95.00           11   232.85\n",
       "137   295.00       92.00           11   230.93\n",
       "138   294.00       90.00           11   230.84\n",
       "139   293.00       88.00           11   228.96\n",
       "\n",
       "[140 rows x 4 columns]"
      ]
     },
     "execution_count": 11,
     "metadata": {},
     "output_type": "execute_result"
    }
   ],
   "source": [
    "out_df_uncontrolled"
   ]
  },
  {
   "cell_type": "code",
   "execution_count": 12,
   "id": "8aac22f3",
   "metadata": {},
   "outputs": [],
   "source": [
    "out_df_uncontrolled.duration = out_df_uncontrolled.duration.astype(float)\n",
    "out_df_uncontrolled.duration = out_df_uncontrolled.duration.astype(int)\n",
    "\n",
    "out_df_uncontrolled.waitingTime = out_df_uncontrolled.waitingTime.astype(float)\n",
    "out_df_uncontrolled.waitingTime = out_df_uncontrolled.waitingTime.astype(int)\n",
    "\n",
    "out_df_uncontrolled.waitingCount = out_df_uncontrolled.waitingCount.astype(float)\n",
    "out_df_uncontrolled.waitingCount = out_df_uncontrolled.waitingCount.astype(int)\n",
    "out_df_uncontrolled.timeLoss = out_df_uncontrolled.timeLoss.astype(float)\n",
    "sum = 0\n",
    "for row in out_df_uncontrolled.timeLoss:\n",
    "    sum += row\n",
    "avg = sum / len(out_df_uncontrolled.timeLoss)"
   ]
  },
  {
   "cell_type": "code",
   "execution_count": 13,
   "id": "e1037022",
   "metadata": {},
   "outputs": [],
   "source": [
    "duration_mean_uncontrolled = out_df_uncontrolled[\"duration\"].mean()\n",
    "waitingTime_mean_uncontrolled = out_df_uncontrolled[\"waitingTime\"].mean()\n",
    "waitingCount_mean_uncontrolled = out_df_uncontrolled[\"waitingCount\"].mean()\n",
    "timeLoss_mean_uncontrolled = avg"
   ]
  },
  {
   "cell_type": "code",
   "execution_count": 16,
   "id": "352c4a99",
   "metadata": {
    "scrolled": true
   },
   "outputs": [
    {
     "name": "stderr",
     "output_type": "stream",
     "text": [
      "C:\\Users\\HanaMeel\\AppData\\Local\\Temp\\ipykernel_11996\\1385856302.py:4: FutureWarning: The frame.append method is deprecated and will be removed from pandas in a future version. Use pandas.concat instead.\n",
      "  mean_metrics = mean_metrics.append(row_uncontrolled, ignore_index=True)\n"
     ]
    },
    {
     "data": {
      "text/html": [
       "<div>\n",
       "<style scoped>\n",
       "    .dataframe tbody tr th:only-of-type {\n",
       "        vertical-align: middle;\n",
       "    }\n",
       "\n",
       "    .dataframe tbody tr th {\n",
       "        vertical-align: top;\n",
       "    }\n",
       "\n",
       "    .dataframe thead th {\n",
       "        text-align: right;\n",
       "    }\n",
       "</style>\n",
       "<table border=\"1\" class=\"dataframe\">\n",
       "  <thead>\n",
       "    <tr style=\"text-align: right;\">\n",
       "      <th></th>\n",
       "      <th>Simulation Type</th>\n",
       "      <th>duration_mean</th>\n",
       "      <th>waitingTime_mean</th>\n",
       "      <th>waitingCount_mean</th>\n",
       "      <th>timeLoss_mean</th>\n",
       "    </tr>\n",
       "  </thead>\n",
       "  <tbody>\n",
       "    <tr>\n",
       "      <th>0</th>\n",
       "      <td>QLearning</td>\n",
       "      <td>217.100000</td>\n",
       "      <td>95.757143</td>\n",
       "      <td>2.450000</td>\n",
       "      <td>152.754500</td>\n",
       "    </tr>\n",
       "    <tr>\n",
       "      <th>1</th>\n",
       "      <td>Uncontrolled</td>\n",
       "      <td>174.178571</td>\n",
       "      <td>46.842857</td>\n",
       "      <td>4.585714</td>\n",
       "      <td>109.917357</td>\n",
       "    </tr>\n",
       "  </tbody>\n",
       "</table>\n",
       "</div>"
      ],
      "text/plain": [
       "  Simulation Type  duration_mean  waitingTime_mean  waitingCount_mean  \\\n",
       "0       QLearning     217.100000         95.757143           2.450000   \n",
       "1    Uncontrolled     174.178571         46.842857           4.585714   \n",
       "\n",
       "   timeLoss_mean  \n",
       "0     152.754500  \n",
       "1     109.917357  "
      ]
     },
     "execution_count": 16,
     "metadata": {},
     "output_type": "execute_result"
    }
   ],
   "source": [
    "mean_cols_uncontrolled = [\"Simulation Type\", \"duration_mean\", \"waitingTime_mean\", \"waitingCount_mean\", \"timeLoss_mean\"]\n",
    "row_uncontrolled = [{\"Simulation Type\": \"Uncontrolled\",\"duration_mean\": duration_mean_uncontrolled, \"waitingTime_mean\": waitingTime_mean_uncontrolled, \"waitingCount_mean\": waitingCount_mean_uncontrolled, \"timeLoss_mean\": timeLoss_mean_uncontrolled}]\n",
    "\n",
    "mean_metrics = mean_metrics.append(row_uncontrolled, ignore_index=True)\n",
    "mean_metrics"
   ]
  },
  {
   "cell_type": "code",
   "execution_count": 17,
   "id": "4c31b742",
   "metadata": {},
   "outputs": [
    {
     "data": {
      "text/html": [
       "<div>\n",
       "<style scoped>\n",
       "    .dataframe tbody tr th:only-of-type {\n",
       "        vertical-align: middle;\n",
       "    }\n",
       "\n",
       "    .dataframe tbody tr th {\n",
       "        vertical-align: top;\n",
       "    }\n",
       "\n",
       "    .dataframe thead th {\n",
       "        text-align: right;\n",
       "    }\n",
       "</style>\n",
       "<table border=\"1\" class=\"dataframe\">\n",
       "  <thead>\n",
       "    <tr style=\"text-align: right;\">\n",
       "      <th></th>\n",
       "      <th>Irányítatlan</th>\n",
       "      <th>Q tanulással irányított</th>\n",
       "    </tr>\n",
       "  </thead>\n",
       "  <tbody>\n",
       "    <tr>\n",
       "      <th>időtartam közép</th>\n",
       "      <td>174.178571</td>\n",
       "      <td>217.100000</td>\n",
       "    </tr>\n",
       "    <tr>\n",
       "      <th>várakozási idő közép</th>\n",
       "      <td>46.842857</td>\n",
       "      <td>95.757143</td>\n",
       "    </tr>\n",
       "    <tr>\n",
       "      <th>várakozások száma</th>\n",
       "      <td>4.585714</td>\n",
       "      <td>2.450000</td>\n",
       "    </tr>\n",
       "    <tr>\n",
       "      <th>elvesztett idő</th>\n",
       "      <td>109.917357</td>\n",
       "      <td>152.754500</td>\n",
       "    </tr>\n",
       "  </tbody>\n",
       "</table>\n",
       "</div>"
      ],
      "text/plain": [
       "                      Irányítatlan  Q tanulással irányított\n",
       "időtartam közép         174.178571               217.100000\n",
       "várakozási idő közép     46.842857                95.757143\n",
       "várakozások száma         4.585714                 2.450000\n",
       "elvesztett idő          109.917357               152.754500"
      ]
     },
     "execution_count": 17,
     "metadata": {},
     "output_type": "execute_result"
    }
   ],
   "source": [
    "index = ['időtartam közép', 'várakozási idő közép', 'várakozások száma', 'elvesztett idő']\n",
    "uncontrolled = [duration_mean_uncontrolled, waitingTime_mean_uncontrolled, waitingCount_mean_uncontrolled, timeLoss_mean_uncontrolled]\n",
    "controlled = [duration_mean, waitingTime_mean, waitingCount_mean, timeLoss_mean]\n",
    "\n",
    "mean_metrics2 = pd.DataFrame({'Irányítatlan' : uncontrolled, 'Q tanulással irányított' : controlled}, index=index)\n",
    "\n",
    "mean_metrics2"
   ]
  },
  {
   "cell_type": "code",
   "execution_count": 18,
   "id": "231fdb18",
   "metadata": {},
   "outputs": [
    {
     "data": {
      "text/plain": [
       "<AxesSubplot: >"
      ]
     },
     "execution_count": 18,
     "metadata": {},
     "output_type": "execute_result"
    },
    {
     "data": {
      "image/png": "[encoded data removed]",
      "text/plain": [
       "<Figure size 640x480 with 1 Axes>"
      ]
     },
     "metadata": {},
     "output_type": "display_data"
    }
   ],
   "source": [
    "mean_metrics2.plot.bar()"
   ]
  },
  {
   "cell_type": "code",
   "execution_count": 19,
   "id": "3ac67b23",
   "metadata": {},
   "outputs": [],
   "source": [
    "xtree = et.parse(\"collisionWithoutDistributedControl.xml\")\n",
    "xrootBaseSimulation = xtree.getroot()"
   ]
  },
  {
   "cell_type": "code",
   "execution_count": 20,
   "id": "9a9a4fec",
   "metadata": {},
   "outputs": [
    {
     "data": {
      "text/plain": [
       "0"
      ]
     },
     "execution_count": 20,
     "metadata": {},
     "output_type": "execute_result"
    }
   ],
   "source": [
    "rowsBaseSimulation = []\n",
    "\n",
    "for node in xrootBaseSimulation:\n",
    "    rowsBaseSimulation.append(node)\n",
    "len(rowsBaseSimulation)"
   ]
  },
  {
   "cell_type": "code",
   "execution_count": 21,
   "id": "cb5bd19e",
   "metadata": {},
   "outputs": [],
   "source": [
    "xtree = et.parse(\"collisionOut4States9.xml\")\n",
    "xrootDistributedSimulation = xtree.getroot()"
   ]
  },
  {
   "cell_type": "code",
   "execution_count": 22,
   "id": "6760e0ac",
   "metadata": {},
   "outputs": [
    {
     "data": {
      "text/plain": [
       "0"
      ]
     },
     "execution_count": 22,
     "metadata": {},
     "output_type": "execute_result"
    }
   ],
   "source": [
    "rowsDistributedSimulation = []\n",
    "\n",
    "for node in xrootDistributedSimulation:\n",
    "    rowsDistributedSimulation.append(node)\n",
    "len(rowsDistributedSimulation)"
   ]
  },
  {
   "cell_type": "code",
   "execution_count": 24,
   "id": "95f4b9c3",
   "metadata": {},
   "outputs": [
    {
     "data": {
      "text/html": [
       "<div>\n",
       "<style scoped>\n",
       "    .dataframe tbody tr th:only-of-type {\n",
       "        vertical-align: middle;\n",
       "    }\n",
       "\n",
       "    .dataframe tbody tr th {\n",
       "        vertical-align: top;\n",
       "    }\n",
       "\n",
       "    .dataframe thead th {\n",
       "        text-align: right;\n",
       "    }\n",
       "</style>\n",
       "<table border=\"1\" class=\"dataframe\">\n",
       "  <thead>\n",
       "    <tr style=\"text-align: right;\">\n",
       "      <th></th>\n",
       "      <th>Ütközések száma</th>\n",
       "    </tr>\n",
       "  </thead>\n",
       "  <tbody>\n",
       "    <tr>\n",
       "      <th>Referencia Szimuláció</th>\n",
       "      <td>0</td>\n",
       "    </tr>\n",
       "    <tr>\n",
       "      <th>Irányított Szimuláció</th>\n",
       "      <td>0</td>\n",
       "    </tr>\n",
       "  </tbody>\n",
       "</table>\n",
       "</div>"
      ],
      "text/plain": [
       "                       Ütközések száma\n",
       "Referencia Szimuláció                0\n",
       "Irányított Szimuláció                0"
      ]
     },
     "execution_count": 24,
     "metadata": {},
     "output_type": "execute_result"
    }
   ],
   "source": [
    "collisions = pd.DataFrame([len(rowsBaseSimulation), len(rowsDistributedSimulation)], columns = ['Ütközések száma'], index =['Referencia Szimuláció', 'Irányított Szimuláció'])\n",
    "collisions"
   ]
  }
 ],
 "metadata": {
  "kernelspec": {
   "display_name": "Python 3 (ipykernel)",
   "language": "python",
   "name": "python3"
  },
  "language_info": {
   "codemirror_mode": {
    "name": "ipython",
    "version": 3
   },
   "file_extension": ".py",
   "mimetype": "text/x-python",
   "name": "python",
   "nbconvert_exporter": "python",
   "pygments_lexer": "ipython3",
   "version": "3.8.13"
  }
 },
 "nbformat": 4,
 "nbformat_minor": 5
}
