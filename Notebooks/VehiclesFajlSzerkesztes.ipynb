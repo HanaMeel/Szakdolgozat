{
 "cells": [
  {
   "cell_type": "code",
   "execution_count": 2,
   "id": "878db51f",
   "metadata": {},
   "outputs": [],
   "source": [
    "import pandas as pd\n",
    "import random"
   ]
  },
  {
   "cell_type": "code",
   "execution_count": 74,
   "id": "c909c878",
   "metadata": {},
   "outputs": [],
   "source": [
    "lines = \"\"\n",
    "with open('vehicles.rou.xml') as f:\n",
    "    lines = f.readlines()"
   ]
  },
  {
   "cell_type": "code",
   "execution_count": 75,
   "id": "8cf00072",
   "metadata": {},
   "outputs": [],
   "source": [
    "linesNew = \"\"\n",
    "\n",
    "count = 0\n",
    "\n",
    "nlines = len(lines)\n",
    "\n",
    "for l in lines:\n",
    "    count = count + 1\n",
    "    if (\"departPos=\\\"531.07\\\"\" in l) or (count <= 34) or (\"</additional>\" in l):\n",
    "        if \"speedFactor=\" in l:\n",
    "            normc = l.split(\"(\")\n",
    "            normc_numbers = normc[1].split(\",\")\n",
    "            if float(normc_numbers[0]) > 2.00:\n",
    "                normc_numbers[0] = \"2.00\"\n",
    "                concatedLine = normc[0] + \"(\" + normc_numbers[0] + \",\" + normc_numbers[1]+ \",\" + normc_numbers[2] + \",\" + normc_numbers[3]\n",
    "                linesNew = linesNew + concatedLine\n",
    "        elif \"departLane=\\\"0\\\"\" in l:\n",
    "            pattern = \"departLane=\\\"0\\\"\"\n",
    "            replacement = \"departLane=\" + \"\\\"\" + str(random.randint(0,1)) + \"\\\"\"\n",
    "            l = l.replace(pattern, replacement)\n",
    "            linesNew = linesNew + l\n",
    "        elif \"probability=\\\"0.00\\\"\" in l:\n",
    "            pattern = \"probability=\\\"0.00\\\"\"\n",
    "            replacement = \"probability=\" + \"\\\"\" + str(round(random.random(), 2)) + \"\\\"\"\n",
    "            l = l.replace(pattern, replacement)\n",
    "            linesNew = linesNew + l\n",
    "        else:\n",
    "            linesNew = linesNew + l"
   ]
  },
  {
   "cell_type": "code",
   "execution_count": 77,
   "id": "a99122f7",
   "metadata": {},
   "outputs": [],
   "source": [
    "xml_file = open(\"vehicles.rou.xml\", \"w\")\n",
    "xml_file.write(linesNew)\n",
    "xml_file.close()"
   ]
  }
 ],
 "metadata": {
  "kernelspec": {
   "display_name": "Python 3 (ipykernel)",
   "language": "python",
   "name": "python3"
  },
  "language_info": {
   "codemirror_mode": {
    "name": "ipython",
    "version": 3
   },
   "file_extension": ".py",
   "mimetype": "text/x-python",
   "name": "python",
   "nbconvert_exporter": "python",
   "pygments_lexer": "ipython3",
   "version": "3.8.13"
  }
 },
 "nbformat": 4,
 "nbformat_minor": 5
}
